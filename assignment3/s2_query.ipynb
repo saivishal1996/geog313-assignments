{
 "cells": [
  {
   "cell_type": "code",
   "execution_count": 55,
   "id": "d85262d6-c05c-47bf-8ab2-1dd8d377a0c3",
   "metadata": {
    "tags": []
   },
   "outputs": [],
   "source": [
    "import matplotlib\n",
    "import pystac_client\n",
    "from pystac_client import Client\n",
    "import matplotlib.pyplot as plt\n",
    "import numpy as np\n"
   ]
  },
  {
   "cell_type": "markdown",
   "id": "4e8fcfdb-0e9e-45f3-b058-581c1a8c8548",
   "metadata": {
    "tags": []
   },
   "source": [
    "### Print package versions"
   ]
  },
  {
   "cell_type": "code",
   "execution_count": 56,
   "id": "3e7e2b94-b9d3-4991-9a86-73b020af8924",
   "metadata": {
    "tags": []
   },
   "outputs": [
    {
     "name": "stdout",
     "output_type": "stream",
     "text": [
      "Numpy version 1.24.3\n",
      "Matplotlib version 3.7.1\n",
      "Pystac client version 0.7.1\n"
     ]
    }
   ],
   "source": [
    "print(\"Numpy version\", np.__version__)\n",
    "print(\"Matplotlib version\", matplotlib.__version__)\n",
    "print(\"Pystac client version\",pystac_client.__version__)\n"
   ]
  },
  {
   "cell_type": "markdown",
   "id": "e4bc7e1b-4b40-4888-ba54-77ea08e36690",
   "metadata": {},
   "source": [
    "### Connect to API using pystac client"
   ]
  },
  {
   "cell_type": "code",
   "execution_count": 57,
   "id": "596261a4-212c-4063-b491-156758e0c6f6",
   "metadata": {
    "tags": []
   },
   "outputs": [],
   "source": [
    "api_url = \"https://earth-search.aws.element84.com/v1\"\n",
    "client = Client.open(api_url)\n"
   ]
  },
  {
   "cell_type": "markdown",
   "id": "bee6db93-71a4-4a53-a73f-b6049923e2e4",
   "metadata": {},
   "source": [
    "### Get the title of different collections available"
   ]
  },
  {
   "cell_type": "code",
   "execution_count": 58,
   "id": "f0274d95-abd1-4518-8f3f-bed0175a3851",
   "metadata": {
    "tags": []
   },
   "outputs": [
    {
     "name": "stdout",
     "output_type": "stream",
     "text": [
      "Copernicus DEM GLO-30\n",
      "NAIP: National Agriculture Imagery Program\n",
      "Sentinel-2 Level 2A\n",
      "Sentinel-2 Level 1C\n",
      "Landsat Collection 2 Level-2\n",
      "Copernicus DEM GLO-90\n",
      "Sentinel-1 Level 1C Ground Range Detected (GRD)\n"
     ]
    }
   ],
   "source": [
    "collections = client.get_collections()\n",
    "for collection in collections:\n",
    "    print(collection.title)"
   ]
  },
  {
   "cell_type": "markdown",
   "id": "9c827037-a942-4d97-8f23-57a249c27816",
   "metadata": {},
   "source": [
    "### Create a point using latitude and longitude values"
   ]
  },
  {
   "cell_type": "code",
   "execution_count": 59,
   "id": "b4989d4a-2d93-44dc-8b7a-6cd4836ad4d6",
   "metadata": {
    "tags": []
   },
   "outputs": [],
   "source": [
    "point = dict(type=\"Point\", coordinates=(11.232754, 35.004162))"
   ]
  },
  {
   "cell_type": "markdown",
   "id": "4fa9f3ea-e06b-42af-bfbd-8af562d564fb",
   "metadata": {},
   "source": [
    "### Get sentinel2 collection that intersect with a given point for a given range of dates"
   ]
  },
  {
   "cell_type": "code",
   "execution_count": 60,
   "id": "da7dc98e-4e85-47ce-9eeb-c9466d57c2c9",
   "metadata": {
    "tags": []
   },
   "outputs": [],
   "source": [
    "search_results = client.search(\n",
    "    collections=[\"sentinel-2-l2a\"],\n",
    "    intersects=point,\n",
    "    datetime=\"2022-01-01/2022-05-31\"\n",
    ")"
   ]
  },
  {
   "cell_type": "code",
   "execution_count": 61,
   "id": "e2b0b5a1-ccd1-415c-a7a1-79c6a8a06af1",
   "metadata": {
    "tags": []
   },
   "outputs": [
    {
     "data": {
      "text/plain": [
       "60"
      ]
     },
     "execution_count": 61,
     "metadata": {},
     "output_type": "execute_result"
    }
   ],
   "source": [
    "items = search_results.item_collection()\n",
    "len(items)"
   ]
  },
  {
   "cell_type": "markdown",
   "id": "d63bd043-a6fa-4263-ba8d-10392db75462",
   "metadata": {
    "tags": []
   },
   "source": [
    "### Get water percentage value for each item in the collection"
   ]
  },
  {
   "cell_type": "code",
   "execution_count": 62,
   "id": "d3d3d514-5511-4878-ae65-b83b099873e8",
   "metadata": {
    "tags": []
   },
   "outputs": [],
   "source": [
    "water_percent=[]\n",
    "for item in items:\n",
    "    water_percent.append(item.properties[\"s2:water_percentage\"])"
   ]
  },
  {
   "cell_type": "markdown",
   "id": "eddafbe0-44e9-49fa-818e-496b174999bc",
   "metadata": {},
   "source": [
    "### Create a histogram to depict the distribution of values using numpy and matplotlib"
   ]
  },
  {
   "cell_type": "code",
   "execution_count": 63,
   "id": "db5a8073-e007-4c0f-98a9-e5efdd87db4a",
   "metadata": {
    "tags": []
   },
   "outputs": [
    {
     "data": {
      "image/png": "[encoded data removed]",
      "text/plain": [
       "<Figure size 640x480 with 1 Axes>"
      ]
     },
     "metadata": {},
     "output_type": "display_data"
    }
   ],
   "source": [
    "counts, bins = np.histogram(water_percent)\n",
    "plt.hist(bins[:-1], bins, weights=counts)\n",
    "plt.ylim(0, 20)\n",
    "plt.title('Histogram showing distribution of water percentage')\n",
    "plt.show()"
   ]
  },
  {
   "cell_type": "markdown",
   "id": "0b6affee-6278-41c0-b44b-cf8f1270034e",
   "metadata": {},
   "source": [
    "### Filter the collection of items based on cloud cover and water percentage"
   ]
  },
  {
   "cell_type": "code",
   "execution_count": 64,
   "id": "a8a1453e-9e81-4b82-8446-f6f5e92c92aa",
   "metadata": {},
   "outputs": [],
   "source": [
    "filtered_items = list(filter(lambda x: x.properties[\"eo:cloud_cover\"] < 5 and x.properties[\"s2:water_percentage\"] > 50, items))"
   ]
  },
  {
   "cell_type": "code",
   "execution_count": 65,
   "id": "ec6f181e-d45b-4394-b95e-c2982f3f4375",
   "metadata": {
    "tags": []
   },
   "outputs": [
    {
     "name": "stdout",
     "output_type": "stream",
     "text": [
      "S2B_32SQD_20220410_0_L2A\n",
      "S2B_32SQD_20220331_0_L2A\n",
      "S2B_32SQD_20220209_0_L2A\n",
      "S2A_32SQD_20220204_0_L2A\n",
      "S2B_32SQD_20220130_0_L2A\n",
      "S2B_32SQD_20220120_0_L2A\n",
      "S2A_32SQD_20220105_0_L2A\n"
     ]
    }
   ],
   "source": [
    "for i in filtered_items:\n",
    "    print(i.id)"
   ]
  }
 ],
 "metadata": {
  "kernelspec": {
   "display_name": "Python 3 (ipykernel)",
   "language": "python",
   "name": "python3"
  },
  "language_info": {
   "codemirror_mode": {
    "name": "ipython",
    "version": 3
   },
   "file_extension": ".py",
   "mimetype": "text/x-python",
   "name": "python",
   "nbconvert_exporter": "python",
   "pygments_lexer": "ipython3",
   "version": "3.11.4"
  }
 },
 "nbformat": 4,
 "nbformat_minor": 5
}
